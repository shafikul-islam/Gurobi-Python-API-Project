{
 "cells": [
  {
   "cell_type": "code",
   "execution_count": 1,
   "metadata": {},
   "outputs": [
    {
     "name": "stdout",
     "output_type": "stream",
     "text": [
      "1 Set Declarations\n",
      "    setInv : Size=1, Index=None, Ordered=Insertion\n",
      "        Key  : Dimen : Domain : Size : Members\n",
      "        None :     1 :    Any :    3 : {'A', 'B', 'C'}\n",
      "\n",
      "2 Var Declarations\n",
      "    C : Size=3, Index=setInv\n",
      "        Key : Lower : Value   : Upper : Fixed : Stale : Domain\n",
      "          A :     0 : 70000.0 :  None : False : False :  Reals\n",
      "          B :     0 : 20000.0 :  None : False : False :  Reals\n",
      "          C :     0 : 10000.0 :  None : False : False :  Reals\n",
      "    R : Size=3, Index=setInv\n",
      "        Key : Lower : Value  : Upper : Fixed : Stale : Domain\n",
      "          A :     0 : 3500.0 :  None : False : False :  Reals\n",
      "          B :     0 : 2000.0 :  None : False : False :  Reals\n",
      "          C :     0 : 1200.0 :  None : False : False :  Reals\n",
      "\n",
      "1 Objective Declarations\n",
      "    obj : Size=1, Index=None, Active=True\n",
      "        Key  : Active : Sense    : Expression\n",
      "        None :   True : maximize : R[A] + R[B] + R[C]\n",
      "\n",
      "6 Constraint Declarations\n",
      "    C1 : Size=1, Index=None, Active=True\n",
      "        Key  : Lower    : Body               : Upper    : Active\n",
      "        None : 100000.0 : C[A] + C[B] + C[C] : 100000.0 :   True\n",
      "    C2 : Size=1, Index=None, Active=True\n",
      "        Key  : Lower : Body             : Upper : Active\n",
      "        None :   0.0 : R[A] - 0.05*C[A] :   0.0 :   True\n",
      "    C3 : Size=1, Index=None, Active=True\n",
      "        Key  : Lower : Body            : Upper : Active\n",
      "        None :   0.0 : R[B] - 0.1*C[B] :   0.0 :   True\n",
      "    C4 : Size=1, Index=None, Active=True\n",
      "        Key  : Lower : Body             : Upper : Active\n",
      "        None :   0.0 : R[C] - 0.12*C[C] :   0.0 :   True\n",
      "    C5 : Size=1, Index=None, Active=True\n",
      "        Key  : Lower : Body : Upper   : Active\n",
      "        None :  -Inf : C[B] : 20000.0 :   True\n",
      "    C6 : Size=1, Index=None, Active=True\n",
      "        Key  : Lower : Body : Upper   : Active\n",
      "        None :  -Inf : C[C] : 10000.0 :   True\n",
      "\n",
      "10 Declarations: setInv C R obj C1 C2 C3 C4 C5 C6\n",
      "\n",
      "\n",
      "OF: 6700.0\n"
     ]
    }
   ],
   "source": [
    "import pyomo.environ as pyo\n",
    "from pyomo.opt import SolverFactory\n",
    "\n",
    "m = pyo.ConcreteModel()\n",
    "\n",
    "#sets and paramenters\n",
    "m.setInv = pyo.Set(initialize=['A','B','C'])\n",
    "m.Capital = 100000\n",
    "\n",
    "#variables\n",
    "m.C = pyo.Var(m.setInv, bounds=(0,None))\n",
    "m.R = pyo.Var(m.setInv, bounds=(0,None))\n",
    "\n",
    "#objective function\n",
    "m.obj = pyo.Objective(expr = pyo.summation(m.R), sense=pyo.maximize)\n",
    "\n",
    "#constraints\n",
    "m.C1 = pyo.Constraint(expr = pyo.summation(m.C) == m.Capital)\n",
    "m.C2 = pyo.Constraint(expr = m.R['A'] == 0.05*m.C['A'])\n",
    "m.C3 = pyo.Constraint(expr = m.R['B'] == 0.10*m.C['B'])\n",
    "m.C4 = pyo.Constraint(expr = m.R['C'] == 0.12*m.C['C'])\n",
    "m.C5 = pyo.Constraint(expr = m.C['B'] <= 0.2*m.Capital)\n",
    "m.C6 = pyo.Constraint(expr = m.C['C'] <= 0.1*m.Capital)\n",
    "\n",
    "#solve\n",
    "opt = SolverFactory('gurobi')\n",
    "m.results = opt.solve(m)\n",
    "\n",
    "#print\n",
    "m.pprint()\n",
    "print('\\n\\nOF:',pyo.value(m.obj))"
   ]
  },
  {
   "cell_type": "code",
   "execution_count": 1,
   "metadata": {},
   "outputs": [
    {
     "ename": "ModuleNotFoundError",
     "evalue": "No module named 'gurobipy'",
     "output_type": "error",
     "traceback": [
      "\u001b[1;31m---------------------------------------------------------------------------\u001b[0m",
      "\u001b[1;31mModuleNotFoundError\u001b[0m                       Traceback (most recent call last)",
      "\u001b[1;32mc:\\Users\\acer\\Operations Research\\Example 1.ipynb Cell 2'\u001b[0m in \u001b[0;36m<cell line: 1>\u001b[1;34m()\u001b[0m\n\u001b[1;32m----> <a href='vscode-notebook-cell:/c%3A/Users/acer/Operations%20Research/Example%201.ipynb#ch0000002?line=0'>1</a>\u001b[0m \u001b[39mfrom\u001b[39;00m \u001b[39mgurobipy\u001b[39;00m \u001b[39mimport\u001b[39;00m \u001b[39m*\u001b[39m\n",
      "\u001b[1;31mModuleNotFoundError\u001b[0m: No module named 'gurobipy'"
     ]
    }
   ],
   "source": [
    "from gurobipy import *"
   ]
  },
  {
   "cell_type": "code",
   "execution_count": null,
   "metadata": {},
   "outputs": [],
   "source": []
  }
 ],
 "metadata": {
  "kernelspec": {
   "display_name": "Python 3",
   "language": "python",
   "name": "python3"
  },
  "language_info": {
   "codemirror_mode": {
    "name": "ipython",
    "version": 3
   },
   "file_extension": ".py",
   "mimetype": "text/x-python",
   "name": "python",
   "nbconvert_exporter": "python",
   "pygments_lexer": "ipython3",
   "version": "3.8.3"
  },
  "vscode": {
   "interpreter": {
    "hash": "5b90849789a8d66df3bcaeacfc4f5a1a9d676781c385676d7dbeee8a811043e0"
   }
  }
 },
 "nbformat": 4,
 "nbformat_minor": 4
}
