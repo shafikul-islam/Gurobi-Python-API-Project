{
 "cells": [
  {
   "cell_type": "markdown",
   "metadata": {},
   "source": [
    "# Linear Programming\n",
    "## Introduction \n",
    "* Linear Programming is widely used \n",
    "* Elements\n",
    "\n",
    "\n",
    "    * A Linear objective function \n",
    "    * Linear inequalities \n",
    "\n",
    "## The Standard form \n",
    "  \n",
    "\\begin{align}\n",
    "\\text{minimize}\\  & f(x) \\\\\n",
    "\\text{subject to } & \\\\\n",
    "& a_1x +b_1y &&\\geq b_1 \\\\\n",
    "& a_2x +b_2y && \\geq b_2 \\\\\n",
    "& x &&\\geq 0 \\\\\n",
    "& y &&\\geq 0\n",
    "\\end{align}\n",
    "\n",
    "\n"
   ]
  },
  {
   "cell_type": "markdown",
   "metadata": {},
   "source": [
    "# Gurobi Basics : Linear Model \n",
    "## Mathmatical Model \n",
    "\n",
    "\\begin{align}\n",
    "\\text{minimize}\\  & 3000x + 4000y \\\\\n",
    "\\text{subject to } & \\\\\n",
    "& \\ \\ \\ 5x+\\ \\ 6y &&\\geq \\ \\ 10 \\\\\n",
    "& \\ \\ \\ 7x + \\ \\ 5y &&\\geq \\ \\ 5 \\\\\n",
    "& \\ \\ x &&\\geq \\ \\ 0 \\\\\n",
    "&  \\ \\ y &&\\geq \\ \\ 0\n",
    "\\end{align}\n",
    "\n"
   ]
  },
  {
   "cell_type": "markdown",
   "metadata": {},
   "source": [
    "# Code in Python using gurobipy\n",
    "### Step 1: Importing gurobipy package"
   ]
  },
  {
   "cell_type": "code",
   "execution_count": 1,
   "metadata": {},
   "outputs": [],
   "source": [
    "from gurobipy import *"
   ]
  },
  {
   "cell_type": "markdown",
   "metadata": {},
   "source": [
    "### Step 2: Create an optimization model\n",
    "Model constructor. Initially, no variables or constraints.\n",
    "``` python\n",
    "Model(name = '')\n",
    "```"
   ]
  },
  {
   "cell_type": "code",
   "execution_count": 3,
   "metadata": {},
   "outputs": [
    {
     "name": "stdout",
     "output_type": "stream",
     "text": [
      "Set parameter Username\n"
     ]
    }
   ],
   "source": [
    "model = Model(name=\"Intro to gurobi\")"
   ]
  },
  {
   "cell_type": "markdown",
   "metadata": {},
   "source": [
    "## Step 3: Add decision variables\n",
    "Add a decision variable to a model."
   ]
  },
  {
   "cell_type": "code",
   "execution_count": 4,
   "metadata": {},
   "outputs": [],
   "source": [
    "x = model.addVar(obj = 3000 ,vtype = \"C\",name = \"x\")\n",
    "y = model.addVar(obj = 3000 ,vtype = \"C\",name = \"y\")\n",
    "model.update()"
   ]
  },
  {
   "cell_type": "markdown",
   "metadata": {},
   "source": [
    "### Step 5: Add the constraints\n",
    "Add a constraint to a model. \n",
    "```python\n",
    "Model.addConstr(constr,  # constraint object \n",
    "                name=\"\") # name of the constraint"
   ]
  },
  {
   "cell_type": "code",
   "execution_count": 5,
   "metadata": {},
   "outputs": [
    {
     "data": {
      "text/plain": [
       "<gurobi.Constr *Awaiting Model Update*>"
      ]
     },
     "execution_count": 5,
     "metadata": {},
     "output_type": "execute_result"
    }
   ],
   "source": [
    "L1 = LinExpr([5,6],[x,y])\n",
    "model.addConstr(L1,\">\",10)\n",
    "\n",
    "L2 = LinExpr([7,5],[x,y])\n",
    "model.addConstr(L2,\">\",5)"
   ]
  },
  {
   "cell_type": "markdown",
   "metadata": {},
   "source": [
    "### Step 6: Solve the model\n",
    "\n",
    "``` python\n",
    "Model.optimize() # optimize the model\n",
    "\n",
    "Model.write(filename) # write model to a file"
   ]
  },
  {
   "cell_type": "code",
   "execution_count": 6,
   "metadata": {},
   "outputs": [
    {
     "name": "stdout",
     "output_type": "stream",
     "text": [
      "Gurobi Optimizer version 9.5.1 build v9.5.1rc2 (win64)\n",
      "Thread count: 4 physical cores, 8 logical processors, using up to 8 threads\n",
      "Optimize a model with 2 rows, 2 columns and 4 nonzeros\n",
      "Model fingerprint: 0xad63bda9\n",
      "Coefficient statistics:\n",
      "  Matrix range     [5e+00, 7e+00]\n",
      "  Objective range  [3e+03, 3e+03]\n",
      "  Bounds range     [0e+00, 0e+00]\n",
      "  RHS range        [5e+00, 1e+01]\n",
      "Presolve time: 0.02s\n",
      "Presolved: 2 rows, 2 columns, 4 nonzeros\n",
      "\n",
      "Iteration    Objective       Primal Inf.    Dual Inf.      Time\n",
      "       0    0.0000000e+00   1.875000e+00   0.000000e+00      0s\n",
      "       1    5.0000000e+03   0.000000e+00   0.000000e+00      0s\n",
      "\n",
      "Solved in 1 iterations and 0.04 seconds (0.00 work units)\n",
      "Optimal objective  5.000000000e+03\n"
     ]
    }
   ],
   "source": [
    "model.ModelSense = 1\n",
    "model.optimize()"
   ]
  },
  {
   "cell_type": "markdown",
   "metadata": {},
   "source": [
    "### Step 7: Output the result"
   ]
  },
  {
   "cell_type": "code",
   "execution_count": 7,
   "metadata": {},
   "outputs": [
    {
     "name": "stdout",
     "output_type": "stream",
     "text": [
      "Opt.Value= 5000.0\n",
      "x*= 0.0\n",
      "y*= 1.6666666666666667\n"
     ]
    }
   ],
   "source": [
    "if model.Status == GRB.OPTIMAL:\n",
    "    print(\"Opt.Value=\",model.ObjVal)\n",
    "    print(\"x*=\",x.X)\n",
    "    print(\"y*=\",y.X)"
   ]
  }
 ],
 "metadata": {
  "interpreter": {
   "hash": "23bf0724a01b6ea9814e66f76182ea78c0ee849a72ca257c0e116bf83bb4960a"
  },
  "kernelspec": {
   "display_name": "Python 3",
   "language": "python",
   "name": "python3"
  },
  "language_info": {
   "codemirror_mode": {
    "name": "ipython",
    "version": 3
   },
   "file_extension": ".py",
   "mimetype": "text/x-python",
   "name": "python",
   "nbconvert_exporter": "python",
   "pygments_lexer": "ipython3",
   "version": "3.8.3"
  }
 },
 "nbformat": 4,
 "nbformat_minor": 2
}
