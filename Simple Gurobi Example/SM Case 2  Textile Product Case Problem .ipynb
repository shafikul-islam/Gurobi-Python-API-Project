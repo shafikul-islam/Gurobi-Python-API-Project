{
 "cells": [
  {
   "cell_type": "code",
   "execution_count": 10,
   "metadata": {},
   "outputs": [],
   "source": [
    "from gurobipy import *\n",
    "import gurobipy as gp "
   ]
  },
  {
   "cell_type": "code",
   "execution_count": 7,
   "metadata": {},
   "outputs": [],
   "source": [
    "product = [ \"Yearn\" , \"Fabric\" , \"CM\" ,\"Knit garments\",\"Woven garments\"]\n",
    "Unit_profit = {\"Yearn\": 21,\n",
    "              \"Fabric\":12,\n",
    "              \"CM\":10,\n",
    "              \"Knit garments\":8,\n",
    "              \"Woven \": 25}\n",
    "\n",
    "resource= [\"Material\",\"Labor\",\"Overhead\"]\n"
   ]
  },
  {
   "cell_type": "code",
   "execution_count": 11,
   "metadata": {},
   "outputs": [],
   "source": [
    "combinations, unit_cost = gp.multidict({\n",
    "    ('Yearn', 'Material'): 100,\n",
    "    ('Yearn', 'Labor'): 10,\n",
    "    ('Yearn', 'Overhead'): 20,\n",
    "    ('Fabric', 'Material'): 50,\n",
    "    ('Fabric', 'Labor'): 5,\n",
    "    ('Fabric', 'Architect'): 20,\n",
    "    ('CM', 'Material'): 35,\n",
    "    ('CM', 'Labor'): 6,\n",
    "    ('CM', 'Overhead'): 15,\n",
    "    ('Knit garments', 'Material'): 34,\n",
    "    ('Knit garments', 'Labor'): 5,\n",
    "    ('Knit garments', 'Overhead'): 14,\n",
    "    ('Woven garments', 'Material'): 120,\n",
    "    ('Woven garments', 'Labor'): 40,\n",
    "    ('Woven garments', 'Overhead'): 95\n",
    "})"
   ]
  },
  {
   "cell_type": "code",
   "execution_count": 12,
   "metadata": {},
   "outputs": [],
   "source": [
    "limitations = [250000,60000,90000]"
   ]
  },
  {
   "cell_type": "code",
   "execution_count": 13,
   "metadata": {},
   "outputs": [
    {
     "name": "stdout",
     "output_type": "stream",
     "text": [
      "Set parameter Username\n",
      "Academic license - for non-commercial use only - expires 2024-01-10\n"
     ]
    }
   ],
   "source": [
    "Model= gp.Model(\"Textile Product Mix\")"
   ]
  },
  {
   "cell_type": "code",
   "execution_count": 31,
   "metadata": {},
   "outputs": [],
   "source": [
    "x=Model.addVars([ \"Yearn\" , \"Fabric\" , \"CM\" ,\"Knit garments\",\"Woven garments\"], vtype= GRB.INTEGER,name =\"Product\")"
   ]
  },
  {
   "cell_type": "code",
   "execution_count": 35,
   "metadata": {},
   "outputs": [],
   "source": [
    "Model.update()"
   ]
  },
  {
   "cell_type": "code",
   "execution_count": 36,
   "metadata": {},
   "outputs": [
    {
     "name": "stdout",
     "output_type": "stream",
     "text": [
      "{'Yearn': <gurobi.Var Product[Yearn]>, 'Fabric': <gurobi.Var Product[Fabric]>, 'CM': <gurobi.Var Product[CM]>, 'Knit garments': <gurobi.Var Product[Knit garments]>, 'Woven garments': <gurobi.Var Product[Woven garments]>}\n"
     ]
    }
   ],
   "source": [
    "print(x)"
   ]
  },
  {
   "cell_type": "code",
   "execution_count": 33,
   "metadata": {},
   "outputs": [
    {
     "ename": "TypeError",
     "evalue": "unsupported operand type(s) for *: 'tupledict' and 'dict_values'",
     "output_type": "error",
     "traceback": [
      "\u001b[1;31m---------------------------------------------------------------------------\u001b[0m",
      "\u001b[1;31mTypeError\u001b[0m                                 Traceback (most recent call last)",
      "\u001b[1;32m<ipython-input-33-ed9a7123dfdb>\u001b[0m in \u001b[0;36m<module>\u001b[1;34m\u001b[0m\n\u001b[1;32m----> 1\u001b[1;33m \u001b[0mobj\u001b[0m \u001b[1;33m=\u001b[0m \u001b[0mModel\u001b[0m\u001b[1;33m.\u001b[0m\u001b[0msetObjective\u001b[0m\u001b[1;33m(\u001b[0m\u001b[0mquicksum\u001b[0m\u001b[1;33m(\u001b[0m\u001b[0mx\u001b[0m\u001b[1;33m*\u001b[0m\u001b[1;33m(\u001b[0m\u001b[0mUnit_profit\u001b[0m\u001b[1;33m.\u001b[0m\u001b[0mvalues\u001b[0m\u001b[1;33m(\u001b[0m\u001b[1;33m)\u001b[0m\u001b[1;33m)\u001b[0m\u001b[1;33m)\u001b[0m\u001b[1;33m,\u001b[0m\u001b[0mGRB\u001b[0m\u001b[1;33m.\u001b[0m\u001b[0mMAXIMIZE\u001b[0m\u001b[1;33m)\u001b[0m\u001b[1;33m\u001b[0m\u001b[1;33m\u001b[0m\u001b[0m\n\u001b[0m",
      "\u001b[1;31mTypeError\u001b[0m: unsupported operand type(s) for *: 'tupledict' and 'dict_values'"
     ]
    }
   ],
   "source": [
    "obj = Model.setObjective(quicksum(x*(Unit_profit.values())),GRB.MAXIMIZE)"
   ]
  },
  {
   "cell_type": "code",
   "execution_count": 22,
   "metadata": {},
   "outputs": [],
   "source": [
    "# Create resources constraint \n",
    "resources= Model.addConstrs()"
   ]
  },
  {
   "cell_type": "code",
   "execution_count": 26,
   "metadata": {},
   "outputs": [
    {
     "name": "stdout",
     "output_type": "stream",
     "text": [
      "None\n"
     ]
    }
   ],
   "source": [
    "print(obj)"
   ]
  },
  {
   "cell_type": "code",
   "execution_count": 27,
   "metadata": {},
   "outputs": [
    {
     "name": "stdout",
     "output_type": "stream",
     "text": [
      "[100, 10, 20, 50, 5, 20, 35, 6, 15, 34, 5, 14, 120, 40, 95]\n"
     ]
    }
   ],
   "source": [
    "print(unit_cost.values())"
   ]
  },
  {
   "cell_type": "code",
   "execution_count": null,
   "metadata": {},
   "outputs": [],
   "source": []
  }
 ],
 "metadata": {
  "kernelspec": {
   "display_name": "Python 3",
   "language": "python",
   "name": "python3"
  },
  "language_info": {
   "codemirror_mode": {
    "name": "ipython",
    "version": 3
   },
   "file_extension": ".py",
   "mimetype": "text/x-python",
   "name": "python",
   "nbconvert_exporter": "python",
   "pygments_lexer": "ipython3",
   "version": "3.8.3"
  }
 },
 "nbformat": 4,
 "nbformat_minor": 4
}
