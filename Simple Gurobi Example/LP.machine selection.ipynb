{
 "cells": [
  {
   "cell_type": "markdown",
   "metadata": {},
   "source": [
    "#### A frim manufactures two products <b>A</b> and <b>B</b> on which the profits earned per unit are <b>RS 3 </b> and <b> RS 4 </b> respectively. Each product is processed on two machines M<sub>1 </sub> and M<sub>2 </sub>. Product A requires <b>one minute</b> of processing time on M<sub>1 </sub> and <b>two minutes</b> on M<sub>2 </sub>, while B requires <b>one minute</b> on M<sub>1 </sub>and <b>one minute </b> on M<sub>2 </sub> . Machine  M<sub>1 </sub> is available for <b> not more than 7 hours 30 minutes</b>,while machine M<sub>2 </sub> is available for <b>not more than 10 hours</b> during any working day . Find the number of units of products A and B to manufactured to get maximum profit."
   ]
  },
  {
   "cell_type": "markdown",
   "metadata": {},
   "source": [
    "Let ,the maximum unit of Product A  can be produced = X \\\n",
    "    &nbsp;&nbsp;&nbsp;&nbsp;&nbsp;  the maximum unit of Product B  can be produced = Y \n",
    "      \\\n",
    "      \\\n",
    "    <b> Objective function = 3X + 4Y </b>\n",
    "    \\\n",
    "    \\\n",
    "    \\\n",
    "   <b> Constraint : 1X + 1Y <= 450 \\\n",
    "   &nbsp;&nbsp;&nbsp;&nbsp;&nbsp;&nbsp;&nbsp;&nbsp;&nbsp;&nbsp;&nbsp;&nbsp;&nbsp;&nbsp;&nbsp;&nbsp;&nbsp;&nbsp;&nbsp;  2X + 1Y <= 600 </b>"
   ]
  },
  {
   "cell_type": "code",
   "execution_count": 7,
   "metadata": {},
   "outputs": [
    {
     "name": "stdout",
     "output_type": "stream",
     "text": [
      "\n",
      "-------------------------------------------------\n",
      "x= 0.0\n",
      "y= 450.0\n"
     ]
    }
   ],
   "source": [
    "import pyomo.environ as pyo \n",
    "from pyomo.environ import *\n",
    "from pyomo.opt import SolverFactory\n",
    "\n",
    "\n",
    "model = pyo.ConcreteModel()\n",
    "\n",
    "model.x = pyo.Var(bounds=(0,None))\n",
    "model.y = pyo.Var(bounds=(0,None))\n",
    "\n",
    "\n",
    "x= model.x\n",
    "y= model.y\n",
    "\n",
    "\n",
    "model.C1 = pyo.Constraint(expr = x + y <= 450 )\n",
    "model.C2 = pyo.Constraint(expr = 2*x + 1*y <= 600 )\n",
    "\n",
    "\n",
    "model.obj =pyo.Objective(expr = 3*x + 4*y, sense=maximize)\n",
    "\n",
    "opt = SolverFactory('gurobi')\n",
    "\n",
    "opt.solve(model)\n",
    "\n",
    "x_value = pyo.value(x)\n",
    "y_value = pyo.value(y)\n",
    "#model.pprint()\n",
    "\n",
    "\n",
    "print(\"\\n-------------------------------------------------\")\n",
    "print('x=',x_value)\n",
    "print('y=',y_value)"
   ]
  },
  {
   "cell_type": "code",
   "execution_count": null,
   "metadata": {},
   "outputs": [],
   "source": []
  }
 ],
 "metadata": {
  "interpreter": {
   "hash": "3a7853f465984184c2db926f12cf0514f49bd82ebd08c64e7d47bb74214f72b4"
  },
  "kernelspec": {
   "display_name": "Python 3",
   "language": "python",
   "name": "python3"
  },
  "language_info": {
   "codemirror_mode": {
    "name": "ipython",
    "version": 3
   },
   "file_extension": ".py",
   "mimetype": "text/x-python",
   "name": "python",
   "nbconvert_exporter": "python",
   "pygments_lexer": "ipython3",
   "version": "3.8.3"
  }
 },
 "nbformat": 4,
 "nbformat_minor": 2
}
